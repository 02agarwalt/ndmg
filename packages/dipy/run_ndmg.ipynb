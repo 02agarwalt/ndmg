{
 "cells": [
  {
   "cell_type": "code",
   "execution_count": 1,
   "metadata": {
    "collapsed": false
   },
   "outputs": [
    {
     "name": "stderr",
     "output_type": "stream",
     "text": [
      "/usr/local/lib/python2.7/site-packages/matplotlib/font_manager.py:273: UserWarning: Matplotlib is building the font cache using fc-list. This may take a moment.\n",
      "  warnings.warn('Matplotlib is building the font cache using fc-list. This may take a moment.')\n"
     ]
    }
   ],
   "source": [
    "import ndmg.utils as ndu\n",
    "import ndmg.register as ndr\n",
    "import ndmg.track as ndt\n",
    "import ndmg.graph as ndg\n",
    "import matplotlib.pylab as plt\n",
    "import numpy as np\n",
    "import nibabel as nb"
   ]
  },
  {
   "cell_type": "code",
   "execution_count": 2,
   "metadata": {
    "collapsed": false
   },
   "outputs": [],
   "source": [
    "\"\"\"\n",
    "Create files list (will ordinarily be parsed from commandline)\n",
    "\"\"\"\n",
    "bval = '/Users/gkiar/Desktop/KKI2009_113_1_DTI.bval'\n",
    "bvec = '/Users/gkiar/Desktop/KKI2009_113_1_DTI.bvec'\n",
    "dti = '/Users/gkiar/Desktop/KKI2009_113_1_DTI.nii'\n",
    "mprage = '/Users/gkiar/Desktop/KKI2009_113_1_MPRAGE.nii'\n",
    "atlas = '/Users/gkiar/Desktop/MNI152_T1_1mm.nii.gz'\n",
    "labels= '/Users/gkiar/Desktop/desikan.nii.gz'\n",
    "mask = '/Users/gkiar/Desktop/MNI152_T1_1mm_brain_mask.nii.gz'\n",
    "aligned_dti = '/Users/gkiar/Desktop/KKI2009_113_1_DTI_aligned.nii.gz'\n",
    "temp_dti ='/tmp/dtifile.nii'"
   ]
  },
  {
   "cell_type": "code",
   "execution_count": 3,
   "metadata": {
    "collapsed": false
   },
   "outputs": [
    {
     "name": "stdout",
     "output_type": "stream",
     "text": [
      "B-values shape (33,)\n",
      "         min 0.000000 \n",
      "         max 700.000000 \n",
      "B-vectors shape (33, 3)\n",
      "         min -0.996763 \n",
      "         max 1.000000 \n",
      "None\n"
     ]
    }
   ],
   "source": [
    "gtab = ndu().load_bval_bvec(bval, bvec, dti, temp_dti)"
   ]
  },
  {
   "cell_type": "code",
   "execution_count": 4,
   "metadata": {
    "collapsed": false
   },
   "outputs": [
    {
     "name": "stdout",
     "output_type": "stream",
     "text": [
      "Executing: flirt -in /tmp/dtifile_b0.nii.gz -ref /Users/gkiar/Desktop/KKI2009_113_1_MPRAGE.nii -omat /tmp/dtifile_KKI2009_113_1_MPRAGE_xfm.mat -cost mutualinfo -bins 256 -dof 12 -searchrx -180 180 -searchry -180 180 -searchrz -180 180\n",
      "('', '')\n",
      "Executing: flirt -in /Users/gkiar/Desktop/KKI2009_113_1_MPRAGE.nii -ref /Users/gkiar/Desktop/MNI152_T1_1mm.nii.gz -omat /tmp/KKI2009_113_1_MPRAGE_MNI152_T1_1mm_xfm.mat -cost mutualinfo -bins 256 -dof 12 -searchrx -180 180 -searchry -180 180 -searchrz -180 180\n",
      "('', '')\n",
      "Executing: flirt -in /tmp/dtifile.nii -ref /Users/gkiar/Desktop/MNI152_T1_1mm.nii.gz -out /Users/gkiar/Desktop/KKI2009_113_1_DTI_aligned.nii.gz -init /tmp/dtifile_MNI152_T1_1mm_xfm.mat -interp trilinear -applyxfm\n",
      "('', '')\n"
     ]
    }
   ],
   "source": [
    "ndr().dti2atlas(temp_dti, gtab, mprage, atlas, aligned_dti)"
   ]
  },
  {
   "cell_type": "code",
   "execution_count": 5,
   "metadata": {
    "collapsed": false
   },
   "outputs": [],
   "source": [
    "fibers = ndt().eudx_basic(aligned_dti, mask, gtab, seed_num=1000000)"
   ]
  },
  {
   "cell_type": "code",
   "execution_count": 6,
   "metadata": {
    "collapsed": false
   },
   "outputs": [
    {
     "name": "stdout",
     "output_type": "stream",
     "text": [
      "# of Streamlines: 199007\n",
      "0\n",
      "25000\n",
      "50000\n",
      "75000\n",
      "100000\n",
      "125000\n",
      "150000\n",
      "175000\n",
      "Graph attributes: None\n",
      "Number of nodes: 70\n",
      "Node attributes: ids\n",
      "Number of edges: 1154\n",
      "Edge attributes: weight\n"
     ]
    }
   ],
   "source": [
    "labels_im = nb.load(labels)\n",
    "\n",
    "graph = ndg(len(np.unique(labels_im.get_data()))-1, labels)\n",
    "graph.make_graph(fibers)\n",
    "g1 = graph.get_graph()\n",
    "graph.summary()"
   ]
  },
  {
   "cell_type": "code",
   "execution_count": 10,
   "metadata": {
    "collapsed": false
   },
   "outputs": [],
   "source": [
    "\n",
    "# plotting doesn't work atm\n",
    "\n",
    "fig = plt.figure()\n",
    "ax = fig.add_subplot(1,1,1)\n",
    "ax.set_aspect('equal')\n",
    "G1 = g1.get_adjacency(attribute='weight')\n",
    "G1\n",
    "#G2 = G1 + np.transpose(G1)\n",
    "\n",
    "m = [[0.0, 1.47, 2.43, 3.44, 1.08, 2.83, 1.08, 2.13, 2.11, 3.7], [1.47, 0.0, 1.5,     2.39, 2.11, 2.4, 2.11, 1.1, 1.1, 3.21], [2.43, 1.5, 0.0, 1.22, 2.69, 1.33, 3.39, 2.15, 2.12, 1.87], [3.44, 2.39, 1.22, 0.0, 3.45, 2.22, 4.34, 2.54, 3.04, 2.28], [1.08, 2.11, 2.69, 3.45, 0.0, 3.13, 1.76, 2.46, 3.02, 3.85], [2.83, 2.4, 1.33, 2.22, 3.13, 0.0, 3.83, 3.32, 2.73, 0.95], [1.08, 2.11, 3.39, 4.34, 1.76, 3.83, 0.0, 2.47, 2.44, 4.74], [2.13, 1.1, 2.15, 2.54, 2.46, 3.32, 2.47, 0.0, 1.78, 4.01], [2.11, 1.1, 2.12, 3.04, 3.02, 2.73, 2.44, 1.78, 0.0, 3.57], [3.7, 3.21, 1.87, 2.28, 3.85, 0.95, 4.74, 4.01, 3.57, 0.0]]\n",
    "matrix = np.matrix(m)\n",
    "\n",
    "plt.imshow(matrix, interpolation='nearest', cmap=plt.cm.ocean)\n",
    "plt.colorbar()\n",
    "#plt.savefig(subLabel+'.png')\n",
    "plt.show()"
   ]
  },
  {
   "cell_type": "code",
   "execution_count": 29,
   "metadata": {
    "collapsed": false
   },
   "outputs": [],
   "source": [
    "ggg = np.reshape(G1[2], [35,2])\n",
    "plt.imshow(ggg, interpolation='nearest', cmap=plt.cm.ocean)\n",
    "plt.colorbar()\n",
    "#plt.savefig(subLabel+'.png')\n",
    "plt.show()"
   ]
  },
  {
   "cell_type": "code",
   "execution_count": null,
   "metadata": {
    "collapsed": false
   },
   "outputs": [],
   "source": [
    "graph.save_graph()"
   ]
  },
  {
   "cell_type": "code",
   "execution_count": null,
   "metadata": {
    "collapsed": true
   },
   "outputs": [],
   "source": [
    "'eddy_correct ' + DTI_in + ' ' + DTI_out + ' 0'"
   ]
  }
 ],
 "metadata": {
  "kernelspec": {
   "display_name": "Python 2",
   "language": "python",
   "name": "python2"
  },
  "language_info": {
   "codemirror_mode": {
    "name": "ipython",
    "version": 2
   },
   "file_extension": ".py",
   "mimetype": "text/x-python",
   "name": "python",
   "nbconvert_exporter": "python",
   "pygments_lexer": "ipython2",
   "version": "2.7.11"
  }
 },
 "nbformat": 4,
 "nbformat_minor": 0
}
