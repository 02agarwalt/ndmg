{
 "cells": [
  {
   "cell_type": "markdown",
   "metadata": {},
   "source": [
    "## Most densely connected nodes\n",
    "Nov 21, 2016\n",
    "\n",
    "**Parcellation**: Desikan atlas <br/>\n",
    "**Dataset**: SWU4 <br/>\n",
    "**Sensor**: DTI"
   ]
  },
  {
   "cell_type": "code",
   "execution_count": 1,
   "metadata": {
    "collapsed": true
   },
   "outputs": [],
   "source": [
    "\"\"\"\n",
    "Import packages\n",
    "\"\"\"\n",
    "import networkx as nx\n",
    "import numpy as np\n",
    "import os"
   ]
  },
  {
   "cell_type": "code",
   "execution_count": 2,
   "metadata": {
    "collapsed": false
   },
   "outputs": [
    {
     "name": "stdout",
     "output_type": "stream",
     "text": [
      "Number of subjects: 454\n"
     ]
    }
   ],
   "source": [
    "\"\"\"\n",
    "Get file handles\n",
    "\"\"\"\n",
    "basepath = './desikan/'\n",
    "nodes = 70\n",
    "\n",
    "files = [os.path.join(basepath, f) for f in os.listdir(basepath)]\n",
    "print \"Number of subjects: %d\" % len(files)"
   ]
  },
  {
   "cell_type": "code",
   "execution_count": 3,
   "metadata": {
    "collapsed": false
   },
   "outputs": [],
   "source": [
    "\"\"\"\n",
    "Get degree list\n",
    "\"\"\"\n",
    "deg = np.zeros((len(files), nodes))\n",
    "for idx, f in enumerate(files):\n",
    "    g = 1.0 * ( nx.adjacency_matrix(nx.read_gpickle(f)).todense() > 0 )\n",
    "    temp_d = np.sum(g, 1)\n",
    "    deg[idx,:] = temp_d.T"
   ]
  },
  {
   "cell_type": "code",
   "execution_count": 4,
   "metadata": {
    "collapsed": false
   },
   "outputs": [],
   "source": [
    "\"\"\"\n",
    "Get average degrees and top few\n",
    "\"\"\"\n",
    "avg_deg = np.mean(deg, 0)\n",
    "std_deg = np.std(deg, 0)\n",
    "dense_nodes = avg_deg.argsort()[::-1][:7,]"
   ]
  },
  {
   "cell_type": "code",
   "execution_count": 5,
   "metadata": {
    "collapsed": false
   },
   "outputs": [],
   "source": [
    "\"\"\"\n",
    "Load region labels\n",
    "\"\"\"\n",
    "f = open('./desikan.txt')\n",
    "labs = [line.strip('\\n') for line in f]"
   ]
  },
  {
   "cell_type": "code",
   "execution_count": 6,
   "metadata": {
    "collapsed": false
   },
   "outputs": [
    {
     "name": "stdout",
     "output_type": "stream",
     "text": [
      "The most dense nodes and their average degree are:\n",
      "Node:  1, Mean: 57.42, Std: 3.92, Name: lh-bankssts;\n",
      "Node: 43, Mean: 56.22, Std: 3.74, Name: rh-inferiorparietal;\n",
      "Node:  5, Mean: 49.73, Std: 6.22, Name: lh-cuneus;\n",
      "Node: 47, Mean: 48.70, Std: 5.76, Name: rh-lateralorbitofrontal;\n",
      "Node: 53, Mean: 46.35, Std: 5.20, Name: rh-parsopercularis;\n",
      "Node: 67, Mean: 44.06, Std: 7.08, Name: rh-frontalpole;\n",
      "Node: 29, Mean: 43.57, Std: 6.84, Name: lh-superiorparietal\n"
     ]
    }
   ],
   "source": [
    "\"\"\"\n",
    "Display densely connected nodes\n",
    "\"\"\"\n",
    "print \"The most dense nodes and their average degree are:\"\n",
    "print \";\\n\".join([\"Node: %2d, Mean: %.2f, Std: %.2f, Name: %s\" % (d, avg_deg[d], std_deg[d], labs[d])\n",
    "                  for d in dense_nodes])"
   ]
  }
 ],
 "metadata": {
  "kernelspec": {
   "display_name": "Python 2",
   "language": "python",
   "name": "python2"
  },
  "language_info": {
   "codemirror_mode": {
    "name": "ipython",
    "version": 2
   },
   "file_extension": ".py",
   "mimetype": "text/x-python",
   "name": "python",
   "nbconvert_exporter": "python",
   "pygments_lexer": "ipython2",
   "version": "2.7.11"
  }
 },
 "nbformat": 4,
 "nbformat_minor": 0
}
