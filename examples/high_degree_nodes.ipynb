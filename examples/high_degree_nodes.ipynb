{
 "cells": [
  {
   "cell_type": "markdown",
   "metadata": {},
   "source": [
    "## Most densely connected nodes\n",
    "Nov 21, 2016\n",
    "\n",
    "**Parcellation**: Desikan atlas <br/>\n",
    "**Dataset**: SWU4 <br/>\n",
    "**Sensor**: DTI"
   ]
  },
  {
   "cell_type": "code",
   "execution_count": 1,
   "metadata": {
    "collapsed": true
   },
   "outputs": [],
   "source": [
    "\"\"\"\n",
    "Import packages\n",
    "\"\"\"\n",
    "import networkx as nx\n",
    "import numpy as np\n",
    "import os"
   ]
  },
  {
   "cell_type": "code",
   "execution_count": 2,
   "metadata": {
    "collapsed": false
   },
   "outputs": [
    {
     "name": "stdout",
     "output_type": "stream",
     "text": [
      "Number of subjects: 454\n"
     ]
    }
   ],
   "source": [
    "\"\"\"\n",
    "Get file handles\n",
    "\"\"\"\n",
    "basepath = './desikan/'\n",
    "nodes = 70\n",
    "\n",
    "files = [os.path.join(basepath, f) for f in os.listdir(basepath)]\n",
    "print \"Number of subjects: %d\" % len(files)"
   ]
  },
  {
   "cell_type": "code",
   "execution_count": 3,
   "metadata": {
    "collapsed": false
   },
   "outputs": [
    {
     "name": "stdout",
     "output_type": "stream",
     "text": [
      "(454, 70)\n"
     ]
    }
   ],
   "source": [
    "\"\"\"\n",
    "Get degree list\n",
    "\"\"\"\n",
    "deg = np.zeros((len(files), nodes))\n",
    "print deg.shape\n",
    "for idx, f in enumerate(files):\n",
    "    g = 1.0 * ( nx.adjacency_matrix(nx.read_gpickle(f)).todense() > 0 )\n",
    "    temp_d = np.sum(g, 1)\n",
    "    deg[idx,:] = temp_d.T"
   ]
  },
  {
   "cell_type": "code",
   "execution_count": 4,
   "metadata": {
    "collapsed": false
   },
   "outputs": [],
   "source": [
    "\"\"\"\n",
    "Get average degrees and top few\n",
    "\"\"\"\n",
    "avg_deg = np.mean(deg, 0)\n",
    "dense_nodes = avg_deg.argsort()[::-1][:7,]"
   ]
  },
  {
   "cell_type": "code",
   "execution_count": 5,
   "metadata": {
    "collapsed": false
   },
   "outputs": [],
   "source": [
    "\"\"\"\n",
    "Load region labels\n",
    "\"\"\"\n",
    "f = open('./desikan.txt')\n",
    "labs = [line.strip('\\n') for line in f]"
   ]
  },
  {
   "cell_type": "code",
   "execution_count": 6,
   "metadata": {
    "collapsed": false
   },
   "outputs": [
    {
     "name": "stdout",
     "output_type": "stream",
     "text": [
      "The most dense nodes and their average degree are:\n",
      "Node:  1, Deg: 57.42, Name: lh-bankssts;\n",
      "Node: 43, Deg: 56.22, Name: rh-inferiorparietal;\n",
      "Node:  5, Deg: 49.73, Name: lh-cuneus;\n",
      "Node: 47, Deg: 48.70, Name: rh-lateralorbitofrontal;\n",
      "Node: 53, Deg: 46.35, Name: rh-parsopercularis;\n",
      "Node: 67, Deg: 44.06, Name: rh-frontalpole;\n",
      "Node: 29, Deg: 43.57, Name: lh-superiorparietal\n"
     ]
    }
   ],
   "source": [
    "\"\"\"\n",
    "Display densely connected nodes\n",
    "\"\"\"\n",
    "print \"The most dense nodes and their average degree are:\"\n",
    "print \";\\n\".join([\"Node: %2d, Deg: %.2f, Name: %s\" % (d, avg_deg[d], labs[d]) for d in dense_nodes])"
   ]
  },
  {
   "cell_type": "code",
   "execution_count": null,
   "metadata": {
    "collapsed": true
   },
   "outputs": [],
   "source": []
  }
 ],
 "metadata": {
  "kernelspec": {
   "display_name": "Python 2",
   "language": "python",
   "name": "python2"
  },
  "language_info": {
   "codemirror_mode": {
    "name": "ipython",
    "version": 2
   },
   "file_extension": ".py",
   "mimetype": "text/x-python",
   "name": "python",
   "nbconvert_exporter": "python",
   "pygments_lexer": "ipython2",
   "version": "2.7.11"
  }
 },
 "nbformat": 4,
 "nbformat_minor": 0
}
