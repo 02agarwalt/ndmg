{
 "cells": [
  {
   "cell_type": "markdown",
   "metadata": {},
   "source": [
    "# Running FLIRT on 2 sets of data"
   ]
  },
  {
   "cell_type": "markdown",
   "metadata": {},
   "source": [
    "### Commands Run to generate output (113_1)\n",
    "\n",
    "<code>\n",
    "docker run -ti -v ~/Downloads:/data --entrypoint /bin/bash bids/ndmg\n",
    "flirt -in /data/KKI2009_113_1_MPRAGE.nii -ref ndmg_atlases/atlas/MNI152_T1_1mm.nii.gz -omat /data/113_1_xfm -cost mutualinfo -bins 256 -dof 12 -searchrx -180 180 -searchry -180 180 -searchrz -180 180\n",
    "flirt -in /data/KKI2009_113_1_MPRAGE.nii -ref ndmg_atlases/atlas/MNI152_T1_1mm.nii.gz -o /data/output_113_1 -init /data/113_1_xfm -applyxfm -interp trilinear\n",
    "</code>"
   ]
  },
  {
   "cell_type": "markdown",
   "metadata": {},
   "source": [
    "### Unregistered 113_1_MPRAGE overlayed on MNI152_1mm"
   ]
  },
  {
   "cell_type": "markdown",
   "metadata": {},
   "source": [
    "\n",
    "<img src=\"../figures/unregistered_113_1_overlay_with_MNI152_1mm.png\" />"
   ]
  },
  {
   "cell_type": "markdown",
   "metadata": {},
   "source": [
    "### Registered 113_1 MPRAGE overlayed on MNI152_1mm"
   ]
  },
  {
   "cell_type": "markdown",
   "metadata": {},
   "source": [
    "<img src=\"../figures/registered_113_1_overlay_with_MNI152_1mm.png\" />"
   ]
  },
  {
   "cell_type": "markdown",
   "metadata": {},
   "source": [
    "### Commands Run to generate output (113_2)\n",
    "\n",
    "<code>\n",
    "docker run -ti -v ~/Downloads:/data --entrypoint /bin/bash bids/ndmg\n",
    "flirt -in /data/KKI2009_113_2_MPRAGE.nii -ref ndmg_atlases/atlas/MNI152_T1_1mm.nii.gz -omat /data/113_2_xfm -cost mutualinfo -bins 256 -dof 12 -searchrx -180 180 -searchry -180 180 -searchrz -180 180\n",
    "flirt -in /data/KKI2009_113_2_MPRAGE.nii -ref ndmg_atlases/atlas/MNI152_T1_1mm.nii.gz -o /data/output_113_2 -init /data/113_2_xfm -applyxfm -interp trilinear\n",
    "</code>"
   ]
  },
  {
   "cell_type": "markdown",
   "metadata": {},
   "source": [
    "### Unregistered 113_2_MPRAGE overlayed on MNI152_1mm"
   ]
  },
  {
   "cell_type": "markdown",
   "metadata": {},
   "source": [
    "\n",
    "<img src=\"../figures/unregistered_113_2_overlay_with_MNI152_1mm.png\" />"
   ]
  },
  {
   "cell_type": "markdown",
   "metadata": {},
   "source": [
    "### Registered 113_2_MPRAGE overlayed on MNI152_1mm"
   ]
  },
  {
   "cell_type": "markdown",
   "metadata": {},
   "source": [
    "\n",
    "<img src=\"../figures/registered_113_2_overlay_with_MNI152_1mm.png\" />"
   ]
  },
  {
   "cell_type": "markdown",
   "metadata": {},
   "source": [
    "### Commands Run to generate output (127_1)\n",
    "\n",
    "<code>\n",
    "docker run -ti -v ~/Downloads:/data --entrypoint /bin/bash bids/ndmg\n",
    "flirt -in /data/KKI2009_127_1_MPRAGE.nii -ref ndmg_atlases/atlas/MNI152_T1_1mm.nii.gz -omat /data/127_1_xfm -cost mutualinfo -bins 256 -dof 12 -searchrx -180 180 -searchry -180 180 -searchrz -180 180\n",
    "flirt -in /data/KKI2009_127_1_MPRAGE.nii -ref ndmg_atlases/atlas/MNI152_T1_1mm.nii.gz -o /data/output_127_1 -init /data/127_1_xfm -applyxfm -interp trilinear\n",
    "</code>"
   ]
  },
  {
   "cell_type": "markdown",
   "metadata": {},
   "source": [
    "### Unregistered 127_1_MPRAGE overlayed on MNI152_1mm"
   ]
  },
  {
   "cell_type": "markdown",
   "metadata": {},
   "source": [
    "\n",
    "<img src=\"../figures/unregistered_127_1_overlay_with_MNI152_1mm.png\" />"
   ]
  },
  {
   "cell_type": "markdown",
   "metadata": {},
   "source": [
    "### Registered 127_1_MPRAGE overlayed on MNI152_1mm"
   ]
  },
  {
   "cell_type": "markdown",
   "metadata": {},
   "source": [
    "\n",
    "<img src=\"../figures/registered_127_1_overlay_with_MNI152_1mm.png\" />"
   ]
  },
  {
   "cell_type": "markdown",
   "metadata": {},
   "source": [
    "### Commands Run to generate output (127_2)\n",
    "\n",
    "<code>\n",
    "docker run -ti -v ~/Downloads:/data --entrypoint /bin/bash bids/ndmg\n",
    "flirt -in /data/KKI2009_127_2_MPRAGE.nii -ref ndmg_atlases/atlas/MNI152_T1_1mm.nii.gz -omat /data/127_2_xfm -cost mutualinfo -bins 256 -dof 12 -searchrx -180 180 -searchry -180 180 -searchrz -180 180\n",
    "flirt -in /data/KKI2009_127_2_MPRAGE.nii -ref ndmg_atlases/atlas/MNI152_T1_1mm.nii.gz -o /data/output_127_2 -init /data/127_2_xfm -applyxfm -interp trilinear\n",
    "</code>"
   ]
  },
  {
   "cell_type": "markdown",
   "metadata": {},
   "source": [
    "### Unregistered 127_2_MPRAGE overlayed on MNI152_1mm"
   ]
  },
  {
   "cell_type": "markdown",
   "metadata": {},
   "source": [
    "\n",
    "<img src=\"../figures/unregistered_127_2_overlay_with_MNI152_1mm.png\" />"
   ]
  },
  {
   "cell_type": "markdown",
   "metadata": {},
   "source": [
    "### Registered 127_2_MPRAGE overlayed on MNI152_1mm"
   ]
  },
  {
   "cell_type": "markdown",
   "metadata": {},
   "source": [
    "\n",
    "<img src=\"../figures/registered_127_2_overlay_with_MNI152_1mm.png\" />"
   ]
  },
  {
   "cell_type": "code",
   "execution_count": null,
   "metadata": {
    "collapsed": true
   },
   "outputs": [],
   "source": []
  }
 ],
 "metadata": {
  "anaconda-cloud": {},
  "kernelspec": {
   "display_name": "Python [default]",
   "language": "python",
   "name": "python3"
  },
  "language_info": {
   "codemirror_mode": {
    "name": "ipython",
    "version": 3
   },
   "file_extension": ".py",
   "mimetype": "text/x-python",
   "name": "python",
   "nbconvert_exporter": "python",
   "pygments_lexer": "ipython3",
   "version": "3.5.2"
  }
 },
 "nbformat": 4,
 "nbformat_minor": 1
}
